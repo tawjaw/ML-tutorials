{
 "cells": [
  {
   "cell_type": "markdown",
   "metadata": {},
   "source": [
    "# Artificial Neural Networks Using Scikit-Learn\n",
    "### Tawfiq Jawhar"
   ]
  },
  {
   "cell_type": "markdown",
   "metadata": {},
   "source": [
    "This is a sample example on how to use scikit learn MLPClassifier model (multi-layer perceptron (MLP) algorithm that trains using Backpropagation).\n",
    "\n",
    "We will be using the breast cancer dataset for this example. First we load the dataset and we split the data to have training and testing sets. "
   ]
  },
  {
   "cell_type": "code",
   "execution_count": 2,
   "metadata": {},
   "outputs": [],
   "source": [
    "from sklearn.datasets import load_breast_cancer\n",
    "from sklearn.model_selection import train_test_split\n",
    "cancer = load_breast_cancer()\n",
    "X = cancer['data']\n",
    "y = cancer['target']\n",
    "X_train, X_test, y_train, y_test = train_test_split(X, y, random_state = 0, shuffle=True)"
   ]
  },
  {
   "cell_type": "markdown",
   "metadata": {},
   "source": [
    "Neural networks are sensitive to feature scaling. The neural network might have difficulty converging if the data is not normalized/standardized. It is also known to easily overfit. The shuffling of the data is important incase the data is ordered in a way that can bias one class over the other and cause an overfitting to the model. "
   ]
  },
  {
   "cell_type": "code",
   "execution_count": 3,
   "metadata": {},
   "outputs": [],
   "source": [
    "from sklearn.preprocessing import StandardScaler\n",
    "scaler = StandardScaler()\n",
    "# Fit only to the training data\n",
    "scaler.fit(X_train)\n",
    "# Now apply the transformations to the data:\n",
    "X_train = scaler.transform(X_train)\n",
    "X_test = scaler.transform(X_test)"
   ]
  },
  {
   "cell_type": "markdown",
   "metadata": {},
   "source": [
    "Now we will use a multi layer neural network to classify the data. We will also be testing different number of hidden layers."
   ]
  },
  {
   "cell_type": "code",
   "execution_count": 4,
   "metadata": {},
   "outputs": [
    {
     "name": "stderr",
     "output_type": "stream",
     "text": [
      "/Users/tawjaw/anaconda3/envs/scikit/lib/python3.6/site-packages/sklearn/neural_network/multilayer_perceptron.py:564: ConvergenceWarning: Stochastic Optimizer: Maximum iterations (200) reached and the optimization hasn't converged yet.\n",
      "  % self.max_iter, ConvergenceWarning)\n"
     ]
    },
    {
     "data": {
      "text/plain": [
       "MLPClassifier(activation='relu', alpha=0.0001, batch_size='auto', beta_1=0.9,\n",
       "       beta_2=0.999, early_stopping=False, epsilon=1e-08,\n",
       "       hidden_layer_sizes=30, learning_rate='constant',\n",
       "       learning_rate_init=0.001, max_iter=200, momentum=0.9,\n",
       "       nesterovs_momentum=True, power_t=0.5, random_state=0, shuffle=True,\n",
       "       solver='adam', tol=0.0001, validation_fraction=0.1, verbose=False,\n",
       "       warm_start=False)"
      ]
     },
     "execution_count": 4,
     "metadata": {},
     "output_type": "execute_result"
    }
   ],
   "source": [
    "from sklearn.neural_network import MLPClassifier\n",
    "mlp = MLPClassifier(hidden_layer_sizes=(30), random_state = 0)\n",
    "#fit the model on the training data with their classes.\n",
    "mlp.fit(X_train,y_train)"
   ]
  },
  {
   "cell_type": "markdown",
   "metadata": {},
   "source": [
    "We can notice that the model outputted a warning message telling us that the model has not converged yet. We can increase the number of maximum iterations, however before doing that let's try and add more hidden layers. "
   ]
  },
  {
   "cell_type": "code",
   "execution_count": 8,
   "metadata": {},
   "outputs": [
    {
     "name": "stdout",
     "output_type": "stream",
     "text": [
      "Iteration 1, loss = 0.59689915\n",
      "Iteration 2, loss = 0.54625693\n",
      "Iteration 3, loss = 0.49876702\n",
      "Iteration 4, loss = 0.45457494\n",
      "Iteration 5, loss = 0.41277608\n",
      "Iteration 6, loss = 0.37406877\n",
      "Iteration 7, loss = 0.33638174\n",
      "Iteration 8, loss = 0.30151110\n",
      "Iteration 9, loss = 0.26967658\n",
      "Iteration 10, loss = 0.23999104\n",
      "Iteration 11, loss = 0.21440121\n",
      "Iteration 12, loss = 0.19118977\n",
      "Iteration 13, loss = 0.17191592\n",
      "Iteration 14, loss = 0.15566159\n",
      "Iteration 15, loss = 0.14186999\n",
      "Iteration 16, loss = 0.13076841\n",
      "Iteration 17, loss = 0.12170903\n",
      "Iteration 18, loss = 0.11346269\n",
      "Iteration 19, loss = 0.10694669\n",
      "Iteration 20, loss = 0.10107622\n",
      "Iteration 21, loss = 0.09567836\n",
      "Iteration 22, loss = 0.09117438\n",
      "Iteration 23, loss = 0.08689998\n",
      "Iteration 24, loss = 0.08342260\n",
      "Iteration 25, loss = 0.08033247\n",
      "Iteration 26, loss = 0.07792264\n",
      "Iteration 27, loss = 0.07552436\n",
      "Iteration 28, loss = 0.07310171\n",
      "Iteration 29, loss = 0.07095833\n",
      "Iteration 30, loss = 0.06892405\n",
      "Iteration 31, loss = 0.06729706\n",
      "Iteration 32, loss = 0.06569411\n",
      "Iteration 33, loss = 0.06424967\n",
      "Iteration 34, loss = 0.06290392\n",
      "Iteration 35, loss = 0.06179496\n",
      "Iteration 36, loss = 0.06162229\n",
      "Iteration 37, loss = 0.06136194\n",
      "Iteration 38, loss = 0.06101744\n",
      "Iteration 39, loss = 0.06027390\n",
      "Iteration 40, loss = 0.05905529\n",
      "Iteration 41, loss = 0.05762652\n",
      "Iteration 42, loss = 0.05604471\n",
      "Iteration 43, loss = 0.05473232\n",
      "Iteration 44, loss = 0.05339399\n",
      "Iteration 45, loss = 0.05245244\n",
      "Iteration 46, loss = 0.05155740\n",
      "Iteration 47, loss = 0.05090021\n",
      "Iteration 48, loss = 0.05004854\n",
      "Iteration 49, loss = 0.04917008\n",
      "Iteration 50, loss = 0.04815549\n",
      "Iteration 51, loss = 0.04739389\n",
      "Iteration 52, loss = 0.04668753\n",
      "Iteration 53, loss = 0.04583252\n",
      "Iteration 54, loss = 0.04512835\n",
      "Iteration 55, loss = 0.04427723\n",
      "Iteration 56, loss = 0.04330517\n",
      "Iteration 57, loss = 0.04261647\n",
      "Iteration 58, loss = 0.04185039\n",
      "Iteration 59, loss = 0.04122517\n",
      "Iteration 60, loss = 0.04057069\n",
      "Iteration 61, loss = 0.03991124\n",
      "Iteration 62, loss = 0.03933703\n",
      "Iteration 63, loss = 0.03892459\n",
      "Iteration 64, loss = 0.03846856\n",
      "Iteration 65, loss = 0.03805562\n",
      "Iteration 66, loss = 0.03736227\n",
      "Iteration 67, loss = 0.03664217\n",
      "Iteration 68, loss = 0.03615941\n",
      "Iteration 69, loss = 0.03587204\n",
      "Iteration 70, loss = 0.03568772\n",
      "Iteration 71, loss = 0.03502312\n",
      "Iteration 72, loss = 0.03476022\n",
      "Iteration 73, loss = 0.03404864\n",
      "Iteration 74, loss = 0.03332347\n",
      "Iteration 75, loss = 0.03267165\n",
      "Iteration 76, loss = 0.03195591\n",
      "Iteration 77, loss = 0.03149113\n",
      "Iteration 78, loss = 0.03100654\n",
      "Iteration 79, loss = 0.03047898\n",
      "Iteration 80, loss = 0.02998448\n",
      "Iteration 81, loss = 0.02974410\n",
      "Iteration 82, loss = 0.02915064\n",
      "Iteration 83, loss = 0.02876981\n",
      "Iteration 84, loss = 0.02834239\n",
      "Iteration 85, loss = 0.02796444\n",
      "Iteration 86, loss = 0.02758113\n",
      "Iteration 87, loss = 0.02722758\n",
      "Iteration 88, loss = 0.02680032\n",
      "Iteration 89, loss = 0.02642806\n",
      "Iteration 90, loss = 0.02584745\n",
      "Iteration 91, loss = 0.02537297\n",
      "Iteration 92, loss = 0.02509206\n",
      "Iteration 93, loss = 0.02461635\n",
      "Iteration 94, loss = 0.02434866\n",
      "Iteration 95, loss = 0.02395301\n",
      "Iteration 96, loss = 0.02368362\n",
      "Iteration 97, loss = 0.02324075\n",
      "Iteration 98, loss = 0.02279379\n",
      "Iteration 99, loss = 0.02229608\n",
      "Iteration 100, loss = 0.02230747\n",
      "Iteration 101, loss = 0.02206742\n",
      "Iteration 102, loss = 0.02168067\n",
      "Iteration 103, loss = 0.02126258\n",
      "Iteration 104, loss = 0.02085423\n",
      "Iteration 105, loss = 0.02043586\n",
      "Iteration 106, loss = 0.02001166\n",
      "Iteration 107, loss = 0.01974119\n",
      "Iteration 108, loss = 0.01944330\n",
      "Iteration 109, loss = 0.01910222\n",
      "Iteration 110, loss = 0.01891530\n",
      "Iteration 111, loss = 0.01855006\n",
      "Iteration 112, loss = 0.01811402\n",
      "Iteration 113, loss = 0.01773528\n",
      "Iteration 114, loss = 0.01760902\n",
      "Iteration 115, loss = 0.01729696\n",
      "Iteration 116, loss = 0.01707444\n",
      "Iteration 117, loss = 0.01686887\n",
      "Iteration 118, loss = 0.01643023\n",
      "Iteration 119, loss = 0.01591726\n",
      "Iteration 120, loss = 0.01543157\n",
      "Iteration 121, loss = 0.01515053\n",
      "Iteration 122, loss = 0.01504051\n",
      "Iteration 123, loss = 0.01484382\n",
      "Iteration 124, loss = 0.01460312\n",
      "Iteration 125, loss = 0.01429945\n",
      "Iteration 126, loss = 0.01402160\n",
      "Iteration 127, loss = 0.01372137\n",
      "Iteration 128, loss = 0.01344594\n",
      "Iteration 129, loss = 0.01319251\n",
      "Iteration 130, loss = 0.01297813\n",
      "Iteration 131, loss = 0.01280132\n",
      "Iteration 132, loss = 0.01261792\n",
      "Iteration 133, loss = 0.01241224\n",
      "Iteration 134, loss = 0.01224070\n",
      "Iteration 135, loss = 0.01200712\n",
      "Iteration 136, loss = 0.01174807\n",
      "Iteration 137, loss = 0.01153663\n",
      "Iteration 138, loss = 0.01136537\n",
      "Iteration 139, loss = 0.01117091\n",
      "Iteration 140, loss = 0.01109010\n",
      "Iteration 141, loss = 0.01089259\n",
      "Iteration 142, loss = 0.01068874\n",
      "Iteration 143, loss = 0.01040963\n",
      "Iteration 144, loss = 0.01017066\n",
      "Iteration 145, loss = 0.00994960\n",
      "Iteration 146, loss = 0.00980925\n",
      "Iteration 147, loss = 0.00949761\n",
      "Iteration 148, loss = 0.00938492\n",
      "Iteration 149, loss = 0.00924793\n",
      "Iteration 150, loss = 0.00910899\n",
      "Iteration 151, loss = 0.00894408\n",
      "Iteration 152, loss = 0.00873296\n",
      "Iteration 153, loss = 0.00848164\n",
      "Iteration 154, loss = 0.00827206\n",
      "Iteration 155, loss = 0.00807554\n",
      "Iteration 156, loss = 0.00790533\n",
      "Iteration 157, loss = 0.00773087\n",
      "Iteration 158, loss = 0.00756157\n",
      "Iteration 159, loss = 0.00743473\n",
      "Iteration 160, loss = 0.00727935\n",
      "Iteration 161, loss = 0.00712475\n",
      "Iteration 162, loss = 0.00692367\n",
      "Iteration 163, loss = 0.00678051\n",
      "Iteration 164, loss = 0.00673188\n",
      "Iteration 165, loss = 0.00656504\n",
      "Iteration 166, loss = 0.00642416\n",
      "Iteration 167, loss = 0.00647524\n",
      "Iteration 168, loss = 0.00631994\n",
      "Iteration 169, loss = 0.00610519\n",
      "Iteration 170, loss = 0.00590038\n",
      "Iteration 171, loss = 0.00565069\n",
      "Iteration 172, loss = 0.00545064\n",
      "Iteration 173, loss = 0.00533693\n",
      "Iteration 174, loss = 0.00526522\n",
      "Iteration 175, loss = 0.00512938\n",
      "Iteration 176, loss = 0.00501538\n",
      "Iteration 177, loss = 0.00488934\n",
      "Iteration 178, loss = 0.00477702\n",
      "Iteration 179, loss = 0.00463631\n",
      "Iteration 180, loss = 0.00446769\n",
      "Iteration 181, loss = 0.00432148\n",
      "Iteration 182, loss = 0.00453993\n",
      "Iteration 183, loss = 0.00466063\n",
      "Iteration 184, loss = 0.00455356\n",
      "Training loss did not improve more than tol=0.000100 for two consecutive epochs. Stopping.\n"
     ]
    },
    {
     "data": {
      "text/plain": [
       "MLPClassifier(activation='relu', alpha=0.0001, batch_size='auto', beta_1=0.9,\n",
       "       beta_2=0.999, early_stopping=False, epsilon=1e-08,\n",
       "       hidden_layer_sizes=(30, 30, 30), learning_rate='constant',\n",
       "       learning_rate_init=0.001, max_iter=200, momentum=0.9,\n",
       "       nesterovs_momentum=True, power_t=0.5, random_state=0, shuffle=True,\n",
       "       solver='adam', tol=0.0001, validation_fraction=0.1, verbose=True,\n",
       "       warm_start=False)"
      ]
     },
     "execution_count": 8,
     "metadata": {},
     "output_type": "execute_result"
    }
   ],
   "source": [
    "mlp = MLPClassifier(hidden_layer_sizes=(30, 30, 30), random_state = 0, verbose = True)\n",
    "#fit the model on the training data with their classes.\n",
    "mlp.fit(X_train,y_train)"
   ]
  },
  {
   "cell_type": "markdown",
   "metadata": {},
   "source": [
    "This is better as we did not get a warning message, which means the model converged. \n",
    "\n",
    "Now we want to predict the values of the testing set and evaluate the accuracy of the model."
   ]
  },
  {
   "cell_type": "code",
   "execution_count": 6,
   "metadata": {},
   "outputs": [
    {
     "name": "stdout",
     "output_type": "stream",
     "text": [
      "[[53  0]\n",
      " [ 2 88]]\n"
     ]
    }
   ],
   "source": [
    "predictions = mlp.predict(X_test)\n",
    "from sklearn.metrics import classification_report,confusion_matrix\n",
    "print(confusion_matrix(y_test,predictions))"
   ]
  },
  {
   "cell_type": "code",
   "execution_count": 7,
   "metadata": {},
   "outputs": [
    {
     "data": {
      "text/plain": [
       "0.986013986013986"
      ]
     },
     "execution_count": 7,
     "metadata": {},
     "output_type": "execute_result"
    }
   ],
   "source": [
    "mlp.score(X_test, y_test)"
   ]
  },
  {
   "cell_type": "markdown",
   "metadata": {},
   "source": [
    "Looks like we did pretty well! We only have 2 missclassified data points. \n",
    "\n",
    "This dataset is a classic and easy binary classification dataset. So don't get your hopes up and assume things will be that easy to classify everytime. But it is a good example/practice. "
   ]
  }
 ],
 "metadata": {
  "kernelspec": {
   "display_name": "Python 3",
   "language": "python",
   "name": "python3"
  },
  "language_info": {
   "codemirror_mode": {
    "name": "ipython",
    "version": 3
   },
   "file_extension": ".py",
   "mimetype": "text/x-python",
   "name": "python",
   "nbconvert_exporter": "python",
   "pygments_lexer": "ipython3",
   "version": "3.6.4"
  }
 },
 "nbformat": 4,
 "nbformat_minor": 2
}
