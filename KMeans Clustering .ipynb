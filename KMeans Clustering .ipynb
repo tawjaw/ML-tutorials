{
 "cells": [
  {
   "cell_type": "markdown",
   "metadata": {},
   "source": [
    "# KMeans Clustering Using Scikit-Learn\n",
    "### Tawfiq Jawhar"
   ]
  },
  {
   "cell_type": "markdown",
   "metadata": {},
   "source": [
    "This is a sample example on how to use the scikit learn kmeans moduule. The sample code is taken from scikit documentation <a href=\"http://scikit-learn.org/stable/modules/generated/sklearn.cluster.KMeans.html\">here</a>."
   ]
  },
  {
   "cell_type": "code",
   "execution_count": 1,
   "metadata": {},
   "outputs": [],
   "source": [
    "#let's import kmeans module and numpy\n",
    "from sklearn.cluster import KMeans\n",
    "import numpy as np\n",
    "#we will also import pyplot to be able to plot and visualize our data\n",
    "import matplotlib.pyplot as plt"
   ]
  },
  {
   "cell_type": "markdown",
   "metadata": {},
   "source": [
    "We will create a very small 2 dimensional data points stored in a numpy array that we will use to fit the model."
   ]
  },
  {
   "cell_type": "code",
   "execution_count": 2,
   "metadata": {},
   "outputs": [],
   "source": [
    "X_train = np.array([[1,2],[1,4],[1,0],[4,2],[4,4],[4,0]])"
   ]
  },
  {
   "cell_type": "markdown",
   "metadata": {},
   "source": [
    "We can simple find the two expected clusters as the data we created is very simple and small. The first 3 data points will be in one cluster and the other 3 data points will be in the second cluster.\n",
    "We will plot the data to be able to get a better understanding.\n",
    "First we will split the data into two 1-dimensional arrays; one for each dimension. The <a href=\"https://docs.scipy.org/doc/numpy/reference/generated/numpy.ndarray.T.html\">.T</a> applied to a numpy array can do that for us. Then we can plot a scatter plot."
   ]
  },
  {
   "cell_type": "code",
   "execution_count": 4,
   "metadata": {},
   "outputs": [
    {
     "data": {
      "text/plain": [
       "<matplotlib.collections.PathCollection at 0x1dfa7206898>"
      ]
     },
     "execution_count": 4,
     "metadata": {},
     "output_type": "execute_result"
    },
    {
     "data": {
      "image/png": "[encoded data removed]",
      "text/plain": [
       "<matplotlib.figure.Figure at 0x1dfa6ef0470>"
      ]
     },
     "metadata": {},
     "output_type": "display_data"
    }
   ],
   "source": [
    "x,y = X_train.T\n",
    "plt.scatter(x,y)"
   ]
  },
  {
   "cell_type": "markdown",
   "metadata": {},
   "source": [
    "Now we want to create a kmeans model with number of cluster = 2 and then fit the model on the training data points. After the model is fit then we can use a point unseen by the model before and predict in which cluster does it belong to."
   ]
  },
  {
   "cell_type": "code",
   "execution_count": 5,
   "metadata": {},
   "outputs": [],
   "source": [
    "kmeans = KMeans(n_clusters = 2, random_state = 0).fit(X_train)"
   ]
  },
  {
   "cell_type": "markdown",
   "metadata": {},
   "source": [
    "The first parameter is the number of clusters and the second parameter is the random seed that will be used by the random number generator. If the seed passed is None, then the random number generator will use the RandomState instance used by np.random\n",
    "\n",
    "Now after the model is fit, we can find out the cluster that each training data point belongs to. labels_ returns an array of cluster values. In this case we have only 2 clusters so the values will be either 0 or 1. The order will be the same order of the points in X_train array."
   ]
  },
  {
   "cell_type": "code",
   "execution_count": 6,
   "metadata": {},
   "outputs": [
    {
     "data": {
      "text/plain": [
       "array([0, 0, 0, 1, 1, 1])"
      ]
     },
     "execution_count": 6,
     "metadata": {},
     "output_type": "execute_result"
    }
   ],
   "source": [
    "kmeans.labels_"
   ]
  },
  {
   "cell_type": "markdown",
   "metadata": {},
   "source": [
    "Each cluster has the points that we expected from the beginning. In real data the clustering would not be obvious to predict and sometimes it is difficult to visualize.\n",
    "\n",
    "Now we will create a new numpy array with 2 points that we will use for testing. We will predict the cluster that each point belongs to. "
   ]
  },
  {
   "cell_type": "code",
   "execution_count": 7,
   "metadata": {},
   "outputs": [
    {
     "data": {
      "text/plain": [
       "array([0, 1])"
      ]
     },
     "execution_count": 7,
     "metadata": {},
     "output_type": "execute_result"
    }
   ],
   "source": [
    "X_test = np.array([[0,0],[4,4]])\n",
    "kmeans.predict(X_test)"
   ]
  },
  {
   "cell_type": "markdown",
   "metadata": {},
   "source": [
    "The first point belongs to the first cluster and the second point belongs to the second cluster.\n",
    "\n",
    "Now let's output the center of each cluster from the fit model."
   ]
  },
  {
   "cell_type": "code",
   "execution_count": 8,
   "metadata": {},
   "outputs": [
    {
     "data": {
      "text/plain": [
       "array([[1., 2.],\n",
       "       [4., 2.]])"
      ]
     },
     "execution_count": 8,
     "metadata": {},
     "output_type": "execute_result"
    }
   ],
   "source": [
    "kmeans.cluster_centers_"
   ]
  },
  {
   "cell_type": "markdown",
   "metadata": {},
   "source": [
    "If we look back at the plot of the training data, the center of each cluster makes sense. \n",
    "\n",
    "This is a simple example of using k-means clustering in scikit-learn. For more details about the sklearn.cluster.KMeans class please refere to the <a href=\"http://scikit-learn.org/stable/modules/generated/sklearn.cluster.KMeans.html\">documentation</a>."
   ]
  }
 ],
 "metadata": {
  "kernelspec": {
   "display_name": "Python 3",
   "language": "python",
   "name": "python3"
  },
  "language_info": {
   "codemirror_mode": {
    "name": "ipython",
    "version": 3
   },
   "file_extension": ".py",
   "mimetype": "text/x-python",
   "name": "python",
   "nbconvert_exporter": "python",
   "pygments_lexer": "ipython3",
   "version": "3.6.4"
  }
 },
 "nbformat": 4,
 "nbformat_minor": 2
}
