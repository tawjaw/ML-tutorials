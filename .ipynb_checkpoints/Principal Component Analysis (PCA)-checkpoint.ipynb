{
 "cells": [
  {
   "cell_type": "markdown",
   "metadata": {},
   "source": [
    "# Principal Component Analysis (PCA)"
   ]
  },
  {
   "cell_type": "markdown",
   "metadata": {},
   "source": [
    "PCA is a statistical procedure that transforms multi dimensional data set that are possibly correlated into linearly uncorrelated variables.\n",
    "Before we understand what that means and how PCA works, we will go through some background in statistics. \n",
    "\n",
    "Part of this tutorial uses examples from: \n",
    "Lindsay I Smith, <a href =\"http://www.cs.otago.ac.nz/cosc453/student_tutorials/principal_components.pdf\" > “A Tutorial on Principal Component Analysis”</a>.\n"
   ]
  },
  {
   "cell_type": "markdown",
   "metadata": {},
   "source": [
    "## Statistics"
   ]
  },
  {
   "cell_type": "code",
   "execution_count": 1,
   "metadata": {},
   "outputs": [],
   "source": [
    "import numpy as np\n",
    "import matplotlib.pyplot as plt\n",
    "from sklearn import datasets \n",
    "import pandas as pd"
   ]
  },
  {
   "cell_type": "markdown",
   "metadata": {},
   "source": [
    "### Mean\n",
    "The mean of a set of points is the average, which is basically the sum of all the variables divided by the number of variables."
   ]
  },
  {
   "cell_type": "markdown",
   "metadata": {},
   "source": [
    "$$X = [1\\ 2\\ 4\\ 6\\ 12\\ 15\\ 25\\ 45\\ 68\\ 67\\ 65\\ 98]$$\n",
    "\n",
    "\n",
    "$$\\bar{X} = \\frac{\\sum_{i=1}^{n} X_{i}}{ n} $$"
   ]
  },
  {
   "cell_type": "code",
   "execution_count": 2,
   "metadata": {},
   "outputs": [
    {
     "data": {
      "text/plain": [
       "34.0"
      ]
     },
     "execution_count": 2,
     "metadata": {},
     "output_type": "execute_result"
    }
   ],
   "source": [
    "X = np.array([1, 2, 4, 6, 12, 15, 25, 45, 68, 67, 65, 98])\n",
    "X.mean()"
   ]
  },
  {
   "cell_type": "markdown",
   "metadata": {},
   "source": [
    "However, mean does not give us a lot of information about the set of variables.\n",
    "$$[0\\ 8\\ 12\\ 20] $$\n",
    "\n",
    "$$[8\\ 9\\ 11\\ 12] $$\n",
    "\n",
    "$$[10\\ 10\\ 10\\ 10] $$\n",
    "\n",
    "These 3 sets of numbers have the same mean value.\n"
   ]
  },
  {
   "cell_type": "code",
   "execution_count": 3,
   "metadata": {},
   "outputs": [
    {
     "data": {
      "text/plain": [
       "(10.0, 10.0, 10.0)"
      ]
     },
     "execution_count": 3,
     "metadata": {},
     "output_type": "execute_result"
    }
   ],
   "source": [
    "X1 = np.array([0, 8, 12, 20])\n",
    "X2 = np.array([8, 9, 11, 12])\n",
    "X3 = np.array([10, 10, 10, 10])\n",
    "X1.mean(), X2.mean(), X3.mean()"
   ]
  },
  {
   "cell_type": "markdown",
   "metadata": {},
   "source": [
    "### Standard Deviation\n",
    "SD gives us information about the spread of the data, which is basically the average distance of all the variables from the mean of the variables set to the variable.\n",
    "\n",
    "$$ s = \\sqrt{\\frac { \\sum_{i=1}^n (X_i - \\bar{X})^2} {n-1}} $$\n",
    "\n",
    "Just by looking at the 3 examples above, we can notice that the set of variables in X1 are more spread apart from each other than the variables in X2.\n",
    "And the variables in X3 are all the same, which means they are not spread apart at all from each other. The standard deviation should reflect that.\n",
    "\n",
    "\n",
    "Note `numpy.std` returns the population standard deviation, which divides by $n$ instead of $n-1$. What we want here is the sample standard deviation so we will need to add an optional `ddof` parameter to `std()`"
   ]
  },
  {
   "cell_type": "code",
   "execution_count": 4,
   "metadata": {},
   "outputs": [
    {
     "data": {
      "text/plain": [
       "(8.32666399786453, 1.8257418583505538, 0.0)"
      ]
     },
     "execution_count": 4,
     "metadata": {},
     "output_type": "execute_result"
    }
   ],
   "source": [
    "X1.std(ddof=1), X2.std(ddof=1), X3.std(ddof=1)"
   ]
  },
  {
   "cell_type": "markdown",
   "metadata": {},
   "source": [
    "### Variance\n",
    "Variance is also a measure of spread of a set of variables. It is very similar to standard deviation, in fact it is the SD squared; or SD without the square root. The symbol for variance used is usually $s^2$.\n",
    "\n",
    "$$ s^2 = \\frac { \\sum_{i=1}^n (X_i - \\bar{X})^2} {n-1} $$\n"
   ]
  },
  {
   "cell_type": "code",
   "execution_count": 5,
   "metadata": {},
   "outputs": [
    {
     "data": {
      "text/plain": [
       "(69.33333333333333, 3.3333333333333335, 0.0)"
      ]
     },
     "execution_count": 5,
     "metadata": {},
     "output_type": "execute_result"
    }
   ],
   "source": [
    "X1.var(ddof=1), X2.var(ddof=1), X3.var(ddof=1)"
   ]
  },
  {
   "cell_type": "markdown",
   "metadata": {},
   "source": [
    "### Covariance\n",
    "The standard deviation and the variance are both measures of spread for 1 dimensional data points. Covariance is a measure used for 2 dimensions and it usually shows if there is a relationship between the two dimensions. For example, the covariance can show as that as the value of the first dimension increases the value of the second dimension decreases. The covariance between a 1 dimensional set of points to itself is basically the variance of that set.\n",
    "This can easily be seen in the formula for covariance. We will first rewrite the formula for variance by changing the square into a multiply. \n",
    "\n",
    "$$ var(X) = \\frac { \\sum_{i=1}^n (X_i - \\bar{X})(X_i - \\bar{X})} {n-1} $$\n",
    "\n",
    "$$ cov(X, Y) = \\frac { \\sum_{i=1}^n (X_i - \\bar{X})(Y_i - \\bar{Y})} {n-1} $$\n"
   ]
  },
  {
   "cell_type": "code",
   "execution_count": 6,
   "metadata": {},
   "outputs": [
    {
     "data": {
      "text/plain": [
       "<matplotlib.collections.PathCollection at 0x1f995343b70>"
      ]
     },
     "execution_count": 6,
     "metadata": {},
     "output_type": "execute_result"
    },
    {
     "data": {
      "image/png": "[encoded data removed]",
      "text/plain": [
       "<matplotlib.figure.Figure at 0x1f9950476a0>"
      ]
     },
     "metadata": {},
     "output_type": "display_data"
    }
   ],
   "source": [
    "X = np.array([1, 2, 3, 4, 5, 6, 7, 8, 9, 10])\n",
    "Y = np.array([10, 9, 8, 7, 6, 5, 4, 3, 2, 1])\n",
    "plt.scatter(X,Y)"
   ]
  },
  {
   "cell_type": "markdown",
   "metadata": {},
   "source": [
    "We can see that X and Y are negatively correlated, as X is increasing Y is decreasing. The covariance between X and Y will have a negative sign. \n",
    "\n",
    "For multiple dimensions, we can create a covariance matrix. Assume X is a multidimensional data set.\n",
    "\n",
    "$$ cov(X) = \n",
    "\\quad\n",
    "\\begin{pmatrix} \n",
    "cov(X_1, X_1) & cov(X_1, X_2) & ... & cov(X_1, X_n) \\\\\n",
    "cov(X_2, X_1) & cov(X_2, X_2) & ... & cov(X_2, X_n) \\\\\n",
    ": & : & : & : \\\\\n",
    "cov(X_n, X_1) & cov(X_n, X_2) & ... & cov(X_n, X_n) \n",
    "\\end{pmatrix}\n",
    "$$"
   ]
  },
  {
   "cell_type": "code",
   "execution_count": 7,
   "metadata": {},
   "outputs": [
    {
     "data": {
      "text/plain": [
       "array([[ 9.16666667, -9.16666667,  0.        ],\n",
       "       [-9.16666667,  9.16666667,  0.        ],\n",
       "       [ 0.        ,  0.        ,  0.        ]])"
      ]
     },
     "execution_count": 7,
     "metadata": {},
     "output_type": "execute_result"
    }
   ],
   "source": [
    "X = np.array([[1, 2, 3, 4, 5, 6, 7, 8, 9, 10]\n",
    "              ,[10, 9, 8, 7, 6, 5, 4, 3, 2, 1]\n",
    "              , [10, 10, 10, 10, 10, 10, 10, 10, 10, 10]])\n",
    "np.cov(X)"
   ]
  },
  {
   "cell_type": "markdown",
   "metadata": {},
   "source": [
    "Note that $ cov(X_1, X_1) $ is just the variance of $ X_1 $. And $ X_3 $ has no spread with variance = 0. Which also means it has no relationship between the spread of any other dimension. "
   ]
  },
  {
   "cell_type": "markdown",
   "metadata": {},
   "source": [
    "## PCA\n",
    "\n",
    "Let's look at the data below."
   ]
  },
  {
   "cell_type": "code",
   "execution_count": 17,
   "metadata": {},
   "outputs": [
    {
     "data": {
      "text/plain": [
       "(0.7654939892099583, 0.8724833028776741)"
      ]
     },
     "execution_count": 17,
     "metadata": {},
     "output_type": "execute_result"
    },
    {
     "data": {
      "image/png": "[encoded data removed]",
      "text/plain": [
       "<matplotlib.figure.Figure at 0x1f995b2dcc0>"
      ]
     },
     "metadata": {},
     "output_type": "display_data"
    }
   ],
   "source": [
    "x = np.random.rand(100, 1)*3\n",
    "y = x + np.random.rand(100, 1)\n",
    "plt.scatter(x,y)\n",
    "np.var(x, ddof=1), np.var(y, ddof=1)"
   ]
  },
  {
   "cell_type": "markdown",
   "metadata": {},
   "source": [
    "From the variance of x and y we can notice that both sets of points are spread, y is spread a bit more than x. Which is something we can see from the plot as well; y axis reaches 4 while x axis reaches 3. \n",
    "However, we can also notice that the x and y axis are not the best axis to represent the spread of the data in 2 dimensions.\n",
    "\n",
    "The spread of data from the plot can be seen representing a diagonal line from $ [0,0]$ till $[3,4]$ almost, and another line orthogonal to that diagonal line representing a small spread of the data.\n",
    "\n",
    "The eigenvectors of the covariance matrix are the direction of spread of data. Each eigenvector has an eigenvalue which represent the strength of the spread in the direction represented by the vector.\n",
    "The graph below shows the eigenvectors plotted from the mean of the data and the size of the arrow represents a ratio between the eigenvalues."
   ]
  },
  {
   "cell_type": "code",
   "execution_count": 9,
   "metadata": {},
   "outputs": [
    {
     "name": "stdout",
     "output_type": "stream",
     "text": [
      "\n",
      "eigenvectors:\n",
      " [[-0.68073144 -0.73253307]\n",
      " [-0.73253307  0.68073144]]\n",
      "\n",
      "eigenvalues\n",
      " [12.73048247  2.11622997]\n"
     ]
    },
    {
     "data": {
      "text/plain": [
       "[]"
      ]
     },
     "execution_count": 9,
     "metadata": {},
     "output_type": "execute_result"
    },
    {
     "data": {
      "image/png": "[encoded data removed]",
      "text/plain": [
       "<matplotlib.figure.Figure at 0x1f99537a198>"
      ]
     },
     "metadata": {},
     "output_type": "display_data"
    }
   ],
   "source": [
    "data = np.hstack((x, y))\n",
    "mu = data.mean(axis=0)\n",
    "data = data - mu\n",
    "eigenvectors, eigenvalues, V = np.linalg.svd(data.T, full_matrices=False)\n",
    "projected_data = np.dot(data, eigenvectors)\n",
    "\n",
    "print(\"\\neigenvectors:\\n\", eigenvectors)\n",
    "print(\"\\neigenvalues\\n\", eigenvalues)\n",
    "eigenvalues = (eigenvalues / np.linalg.norm(eigenvalues))*2\n",
    "\n",
    "fig = plt.figure(figsize=(20,10))\n",
    "ax = fig.add_subplot(111)\n",
    "ax.scatter(x, y)\n",
    "\n",
    "start, end = mu, mu + eigenvalues[0] * eigenvectors[0]\n",
    "ax.annotate(\n",
    "        '', xy=end, xycoords='data',\n",
    "        xytext=start, textcoords='data',\n",
    "        arrowprops=dict(facecolor='red', width=2.0))\n",
    "ax.set_aspect('equal')\n",
    "start, end = mu, mu + eigenvalues[1] * eigenvectors[1]\n",
    "ax.annotate(\n",
    "        '', xy=end, xycoords='data',\n",
    "        xytext=start, textcoords='data',\n",
    "        arrowprops=dict(facecolor='red', width=2.0))\n",
    "ax.set_aspect('equal')\n",
    "ax.plot()"
   ]
  },
  {
   "cell_type": "markdown",
   "metadata": {},
   "source": [
    "When we calculated the variance of each dimension separately, we found that there isn't a huge difference that we can just remove one of the dimensions and assume the meaning of the data or the information represented in the data is not affected by a big factor.\n",
    "\n",
    "But now, let's assume our eigenvectors plotted in the figure above are the new axis of our data. The longer vector is the x-axis and the shorter is the y-axis. If we remove the new y dimension from the data, the loss of information from the data will be much less than if we removed the y dimensions from the original data as the new x dimension represents most of the spread which is the information we usually use in analyzing data.\n",
    "\n",
    "\n",
    "This is basically how PCA works. \n",
    "\n",
    "1. Calculate the covariance matrix of the multi-dimensional data set.\n",
    "2. Calculate the eigenvectors and eigenvalues of the covariance matrix and sort components by the highest eigenvalues.\n",
    "3. Transform the data to the new axis, which are called components."
   ]
  },
  {
   "cell_type": "markdown",
   "metadata": {},
   "source": [
    "### Dimensional Reduction using PCA Sciki-Learn\n",
    "\n",
    "After applying the steps above, we get a new dataset of the same number of dimensions as the original dataset. The dimensions are called components and the values of each component does not reflect any meaningful/semantic based on what the original dimensions represented. For example, if in the orginal data, a dimension represented the height of something, the values of the components will not represent height values anymore. \n",
    "\n",
    "But what do they represent?\n",
    "Each dimension has a strength for the information extracted from the data. The first component has the most information and the last component has the least information. \n",
    "\n",
    "Now let's use the PCA module from scikit and have a better understanding of how we can use PCA.\n",
    "We will be using the <a href =\"https://archive.ics.uci.edu/ml/datasets/iris\">iris</a> dataset, which has the following features:"
   ]
  },
  {
   "cell_type": "code",
   "execution_count": 10,
   "metadata": {},
   "outputs": [
    {
     "data": {
      "text/plain": [
       "['sepal length (cm)',\n",
       " 'sepal width (cm)',\n",
       " 'petal length (cm)',\n",
       " 'petal width (cm)']"
      ]
     },
     "execution_count": 10,
     "metadata": {},
     "output_type": "execute_result"
    }
   ],
   "source": [
    "from sklearn.decomposition import PCA\n",
    "from sklearn import datasets\n",
    "\n",
    "iris = datasets.load_iris()\n",
    "irisData = iris.data\n",
    "labels = iris.target\n",
    "iris.feature_names"
   ]
  },
  {
   "cell_type": "markdown",
   "metadata": {},
   "source": [
    "We first need to normalize the data. Why is this important in PCA? \n",
    "\n",
    "PCA maximizes the variance in the data. And the variance can be easily biased towards the dimension that has highest range for the data. \n",
    "Let's look at the following example:"
   ]
  },
  {
   "cell_type": "code",
   "execution_count": 11,
   "metadata": {},
   "outputs": [
    {
     "data": {
      "text/plain": [
       "(0.02, 2.0)"
      ]
     },
     "execution_count": 11,
     "metadata": {},
     "output_type": "execute_result"
    }
   ],
   "source": [
    "x = np.array([0.1,0.2,0.3,0.4,0.5])\n",
    "y = np.array([1,2,3,4,5])\n",
    "x.var(), y.var()"
   ]
  },
  {
   "cell_type": "markdown",
   "metadata": {},
   "source": [
    "Both sets of the data has the same spread with respect to the axis. But the variance for x is much lower than the variance of y.\n",
    "The StandardScalar from scikit transforms the data such that its distribution will have a mean value 0 and standard deviation of 1."
   ]
  },
  {
   "cell_type": "code",
   "execution_count": 12,
   "metadata": {},
   "outputs": [
    {
     "data": {
      "text/plain": [
       "array([[-1.41421356, -1.41421356],\n",
       "       [-0.70710678, -0.70710678],\n",
       "       [ 0.        ,  0.        ],\n",
       "       [ 0.70710678,  0.70710678],\n",
       "       [ 1.41421356,  1.41421356]])"
      ]
     },
     "execution_count": 12,
     "metadata": {},
     "output_type": "execute_result"
    }
   ],
   "source": [
    "from sklearn.preprocessing import StandardScaler\n",
    "data= np.column_stack((x,y))\n",
    "data = StandardScaler().fit_transform(data)\n",
    "x,y = data.T\n",
    "data"
   ]
  },
  {
   "cell_type": "markdown",
   "metadata": {},
   "source": [
    "After the transformation x and y have the same values, which means they have the same variance. Which is what we want when we compare the two dimensions.\n",
    "Let's standardize the iris dataset and then apply PCA.\n",
    "\n",
    "We will also plot the cumulative  sum of the variance ratio of the components. Which will show us how much information is lost from the data if we reduce the number of components."
   ]
  },
  {
   "cell_type": "code",
   "execution_count": 13,
   "metadata": {},
   "outputs": [
    {
     "data": {
      "image/png": "[encoded data removed]",
      "text/plain": [
       "<matplotlib.figure.Figure at 0x1f995b1a4e0>"
      ]
     },
     "metadata": {},
     "output_type": "display_data"
    }
   ],
   "source": [
    "irisData = StandardScaler().fit_transform(irisData)\n",
    "pca = PCA().fit(irisData)\n",
    "plt.plot(np.cumsum(pca.explained_variance_ratio_))\n",
    "plt.xlabel('number of components')\n",
    "plt.ylabel('cumulative explained variance');"
   ]
  },
  {
   "cell_type": "markdown",
   "metadata": {},
   "source": [
    "We can see that with 1 component we keep more than 95% of the information in the data. We will reduce the data to 2 components and then plot the data with different color for each label."
   ]
  },
  {
   "cell_type": "code",
   "execution_count": 14,
   "metadata": {},
   "outputs": [
    {
     "data": {
      "text/plain": [
       "array([0, 1, 2])"
      ]
     },
     "execution_count": 14,
     "metadata": {},
     "output_type": "execute_result"
    }
   ],
   "source": [
    "irisProjected = PCA(n_components=2).fit_transform(irisData)\n",
    "x, y = irisProjected.T\n",
    "np.unique(labels)"
   ]
  },
  {
   "cell_type": "markdown",
   "metadata": {},
   "source": [
    "From the labels we see we have 3 labels (classes). We will map each label to a color and then we will plot the projected data."
   ]
  },
  {
   "cell_type": "code",
   "execution_count": 15,
   "metadata": {},
   "outputs": [
    {
     "data": {
      "text/plain": [
       "<matplotlib.collections.PathCollection at 0x1f995bcf7f0>"
      ]
     },
     "execution_count": 15,
     "metadata": {},
     "output_type": "execute_result"
    },
    {
     "data": {
      "image/png": "[encoded data removed]",
      "text/plain": [
       "<matplotlib.figure.Figure at 0x1f995b82470>"
      ]
     },
     "metadata": {},
     "output_type": "display_data"
    }
   ],
   "source": [
    "label_color_map = {0 : 'r', 1 : 'b' , 2 : 'g'}\n",
    "label_color = [label_color_map[l] for l in labels]\n",
    "plt.scatter(x, y, c = label_color)"
   ]
  },
  {
   "cell_type": "markdown",
   "metadata": {},
   "source": [
    "With PCA we are able to visualize the data in 2 dimensions while knowing exactly how much information we lost from the data. In this case less than 5%. "
   ]
  }
 ],
 "metadata": {
  "kernelspec": {
   "display_name": "Python 3",
   "language": "python",
   "name": "python3"
  },
  "language_info": {
   "codemirror_mode": {
    "name": "ipython",
    "version": 3
   },
   "file_extension": ".py",
   "mimetype": "text/x-python",
   "name": "python",
   "nbconvert_exporter": "python",
   "pygments_lexer": "ipython3",
   "version": "3.6.4"
  }
 },
 "nbformat": 4,
 "nbformat_minor": 2
}
